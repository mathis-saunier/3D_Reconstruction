{
 "cells": [
  {
   "cell_type": "code",
   "execution_count": 6,
   "metadata": {},
   "outputs": [],
   "source": [
    "import cv2\n",
    "import numpy as np\n",
    "import glob\n",
    "import matplotlib.pyplot as plt\n"
   ]
  },
  {
   "cell_type": "code",
   "execution_count": 7,
   "metadata": {},
   "outputs": [
    {
     "data": {
      "text/plain": [
       "['./data_calibration/20250402_135630.jpg',\n",
       " './data_calibration/20250402_135634.jpg',\n",
       " './data_calibration/20250402_135634(0).jpg',\n",
       " './data_calibration/20250402_135632(0).jpg',\n",
       " './data_calibration/20250402_135635.jpg',\n",
       " './data_calibration/20250402_135633.jpg',\n",
       " './data_calibration/20250402_135630(1).jpg',\n",
       " './data_calibration/20250402_135632.jpg',\n",
       " './data_calibration/20250402_135631.jpg',\n",
       " './data_calibration/20250402_135631(0).jpg',\n",
       " './data_calibration/20250402_135630(0).jpg']"
      ]
     },
     "execution_count": 7,
     "metadata": {},
     "output_type": "execute_result"
    }
   ],
   "source": [
    "# Dimensions du quadrillage (coins intérieurs)\n",
    "chessboard_size = (6, 8)  # 9x6 coins\n",
    "\n",
    "# Préparation des points 3D réels\n",
    "objp = np.zeros((chessboard_size[0]*chessboard_size[1], 3), np.float32)\n",
    "objp[:, :2] = np.mgrid[0:chessboard_size[0], 0:chessboard_size[1]].T.reshape(-1, 2)\n",
    "\n",
    "objpoints = []  # Points 3D\n",
    "imgpoints = []  # Points 2D\n",
    "\n",
    "# Charge les images du quadrillage\n",
    "images = glob.glob('./data_calibration/*.jpg')\n",
    "\n",
    "images"
   ]
  },
  {
   "cell_type": "code",
   "execution_count": 8,
   "metadata": {},
   "outputs": [
    {
     "name": "stdout",
     "output_type": "stream",
     "text": [
      "Une image de plus : 1/11\n",
      "Une image de plus : 2/11\n",
      "Une image de plus : 3/11\n",
      "Une image de plus : 4/11\n",
      "Une image de plus : 5/11\n",
      "Une image de plus : 6/11\n",
      "Une image de plus : 7/11\n",
      "Une image de plus : 8/11\n",
      "Une image de plus : 9/11\n",
      "Une image de plus : 10/11\n",
      "Une image de plus : 11/11\n",
      "Matrice intrinsèque K :\n",
      " [[3.60897911e+03 0.00000000e+00 8.59539453e+02]\n",
      " [0.00000000e+00 3.60991762e+03 2.24266702e+03]\n",
      " [0.00000000e+00 0.00000000e+00 1.00000000e+00]]\n"
     ]
    }
   ],
   "source": [
    "i = 0\n",
    "\n",
    "for fname in images:\n",
    "    i += 1\n",
    "    print(f\"Une image de plus : {i}/{len(images)}\")\n",
    "    img = cv2.imread(fname)\n",
    "    gray = cv2.cvtColor(img, cv2.COLOR_BGR2GRAY)\n",
    "    ret, corners = cv2.findChessboardCorners(gray, chessboard_size, None)\n",
    "    if ret:\n",
    "        objpoints.append(objp)\n",
    "        imgpoints.append(corners)\n",
    "\n",
    "# Calibrage de la caméra\n",
    "ret, K, dist, rvecs, tvecs = cv2.calibrateCamera(objpoints, imgpoints, gray.shape[::-1], None, None)\n",
    "\n",
    "print(\"Matrice intrinsèque K :\\n\", K)"
   ]
  },
  {
   "cell_type": "code",
   "execution_count": null,
   "metadata": {},
   "outputs": [],
   "source": []
  },
  {
   "cell_type": "code",
   "execution_count": null,
   "metadata": {},
   "outputs": [],
   "source": []
  }
 ],
 "metadata": {
  "kernelspec": {
   "display_name": ".env",
   "language": "python",
   "name": "python3"
  },
  "language_info": {
   "codemirror_mode": {
    "name": "ipython",
    "version": 3
   },
   "file_extension": ".py",
   "mimetype": "text/x-python",
   "name": "python",
   "nbconvert_exporter": "python",
   "pygments_lexer": "ipython3",
   "version": "3.12.3"
  }
 },
 "nbformat": 4,
 "nbformat_minor": 2
}
